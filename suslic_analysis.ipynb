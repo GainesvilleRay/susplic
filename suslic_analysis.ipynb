{
 "cells": [
  {
   "cell_type": "code",
   "execution_count": 1,
   "metadata": {},
   "outputs": [],
   "source": [
    "\"\"\"\n",
    "Workbook to analyse data on driver license suspensions from the Alachua\n",
    "County Court Clerk's office for calendar year 2018.\n",
    "\"\"\"\n",
    "import pandas as pd\n",
    "import numpy as np\n",
    "import datetime"
   ]
  },
  {
   "cell_type": "code",
   "execution_count": 2,
   "metadata": {},
   "outputs": [],
   "source": [
    "#Read in the file\n",
    "file = \"susplic.xlsx\"\n",
    "cols = ['casenum', 'statnum', 'zip', 'yob', 'race', 'gender']\n",
    "df = pd.read_excel(file, usecols=[0, 1, 8, 9, 10, 11], names=cols)\n",
    "df.drop_duplicates('casenum', inplace=True)\n",
    "df.zip = df.zip.apply(str)\n",
    "df.statnum = df.statnum.apply(str)"
   ]
  },
  {
   "cell_type": "code",
   "execution_count": 3,
   "metadata": {},
   "outputs": [
    {
     "data": {
      "text/plain": [
       "WHITE              1743\n",
       "BLACK              1294\n",
       "Unknown              74\n",
       "HISPANIC             28\n",
       "ASIAN                27\n",
       "Oriental/Asian       10\n",
       "INDIAN                5\n",
       "AMERICAN INDIAN       1\n",
       "Name: race, dtype: int64"
      ]
     },
     "execution_count": 3,
     "metadata": {},
     "output_type": "execute_result"
    }
   ],
   "source": [
    "# Distribution by race\n",
    "df.race.value_counts()"
   ]
  },
  {
   "cell_type": "code",
   "execution_count": 4,
   "metadata": {},
   "outputs": [
    {
     "data": {
      "text/plain": [
       "32608    315\n",
       "32607    308\n",
       "32641    227\n",
       "32609    190\n",
       "32601    151\n",
       "32605    131\n",
       "32606    107\n",
       "32615     91\n",
       "32653     76\n",
       "32669     76\n",
       "32643     69\n",
       "32640     67\n",
       "32618     42\n",
       "32696     41\n",
       "32038     32\n",
       "32054     29\n",
       "32656     29\n",
       "32693     26\n",
       "32091     23\n",
       "32666     19\n",
       "32694     19\n",
       "32667     19\n",
       "32621     17\n",
       "32603     16\n",
       "32055     16\n",
       "Name: zip, dtype: int64"
      ]
     },
     "execution_count": 4,
     "metadata": {},
     "output_type": "execute_result"
    }
   ],
   "source": [
    "# Distribution by zip code\n",
    "zip_df = df.zip.value_counts()\n",
    "zip_df.head(25)"
   ]
  },
  {
   "cell_type": "code",
   "execution_count": 5,
   "metadata": {},
   "outputs": [
    {
     "data": {
      "text/plain": [
       "WHITE             155\n",
       "BLACK             131\n",
       "Unknown            13\n",
       "ASIAN               6\n",
       "HISPANIC            5\n",
       "Oriental/Asian      3\n",
       "INDIAN              1\n",
       "Name: race, dtype: int64"
      ]
     },
     "execution_count": 5,
     "metadata": {},
     "output_type": "execute_result"
    }
   ],
   "source": [
    "# Top zip codes by race\n",
    "df.loc[df.zip == '32608'].race.value_counts()"
   ]
  },
  {
   "cell_type": "code",
   "execution_count": 6,
   "metadata": {},
   "outputs": [
    {
     "data": {
      "text/plain": [
       "BLACK       164\n",
       "WHITE       127\n",
       "Unknown       8\n",
       "HISPANIC      5\n",
       "ASIAN         3\n",
       "INDIAN        1\n",
       "Name: race, dtype: int64"
      ]
     },
     "execution_count": 6,
     "metadata": {},
     "output_type": "execute_result"
    }
   ],
   "source": [
    "df.loc[df.zip == '32607'].race.value_counts()"
   ]
  },
  {
   "cell_type": "code",
   "execution_count": 7,
   "metadata": {},
   "outputs": [
    {
     "data": {
      "text/plain": [
       "BLACK    185\n",
       "WHITE     42\n",
       "Name: race, dtype: int64"
      ]
     },
     "execution_count": 7,
     "metadata": {},
     "output_type": "execute_result"
    }
   ],
   "source": [
    "df.loc[df.zip == '32641'].race.value_counts()"
   ]
  },
  {
   "cell_type": "code",
   "execution_count": 8,
   "metadata": {},
   "outputs": [
    {
     "data": {
      "text/plain": [
       "BLACK       116\n",
       "WHITE        70\n",
       "HISPANIC      2\n",
       "ASIAN         1\n",
       "Unknown       1\n",
       "Name: race, dtype: int64"
      ]
     },
     "execution_count": 8,
     "metadata": {},
     "output_type": "execute_result"
    }
   ],
   "source": [
    "df.loc[df.zip == '32609'].race.value_counts()"
   ]
  },
  {
   "cell_type": "code",
   "execution_count": 9,
   "metadata": {},
   "outputs": [
    {
     "data": {
      "text/plain": [
       "WHITE             77\n",
       "BLACK             64\n",
       "Unknown            4\n",
       "ASIAN              3\n",
       "HISPANIC           2\n",
       "Oriental/Asian     1\n",
       "Name: race, dtype: int64"
      ]
     },
     "execution_count": 9,
     "metadata": {},
     "output_type": "execute_result"
    }
   ],
   "source": [
    "df.loc[df.zip == '32601'].race.value_counts()"
   ]
  },
  {
   "cell_type": "code",
   "execution_count": 10,
   "metadata": {},
   "outputs": [
    {
     "data": {
      "text/plain": [
       "316    2576\n",
       "322     503\n",
       "320      88\n",
       "893      12\n",
       "843       3\n",
       "812       1\n",
       "901       1\n",
       "Name: statnum, dtype: int64"
      ]
     },
     "execution_count": 10,
     "metadata": {},
     "output_type": "execute_result"
    }
   ],
   "source": [
    "# Distribution by statute number\n",
    "stat_df = df.statnum.str.split(\".\").str[0]\n",
    "stat_df = stat_df.value_counts()\n",
    "stat_df"
   ]
  }
 ],
 "metadata": {
  "kernelspec": {
   "display_name": "Python 3",
   "language": "python",
   "name": "python3"
  },
  "language_info": {
   "codemirror_mode": {
    "name": "ipython",
    "version": 3
   },
   "file_extension": ".py",
   "mimetype": "text/x-python",
   "name": "python",
   "nbconvert_exporter": "python",
   "pygments_lexer": "ipython3",
   "version": "3.7.1"
  }
 },
 "nbformat": 4,
 "nbformat_minor": 2
}
